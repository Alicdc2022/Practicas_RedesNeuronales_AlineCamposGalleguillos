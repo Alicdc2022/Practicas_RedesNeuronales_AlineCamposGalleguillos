{
  "nbformat": 4,
  "nbformat_minor": 0,
  "metadata": {
    "kernelspec": {
      "display_name": "Python 3",
      "language": "python",
      "name": "python3"
    },
    "language_info": {
      "codemirror_mode": {
        "name": "ipython",
        "version": 3
      },
      "file_extension": ".py",
      "mimetype": "text/x-python",
      "name": "python",
      "nbconvert_exporter": "python",
      "pygments_lexer": "ipython3",
      "version": "3.7.7"
    },
    "colab": {
      "provenance": [],
      "include_colab_link": true
    }
  },
  "cells": [
    {
      "cell_type": "markdown",
      "metadata": {
        "id": "view-in-github",
        "colab_type": "text"
      },
      "source": [
        "<a href=\"https://colab.research.google.com/github/Alicdc2022/Practicas_RedesNeuronales_AlineCamposGalleguillos/blob/main/Modelo_Clasificacion_Multiple_AlineCampos.ipynb\" target=\"_parent\"><img src=\"https://colab.research.google.com/assets/colab-badge.svg\" alt=\"Open In Colab\"/></a>"
      ]
    },
    {
      "cell_type": "markdown",
      "source": [
        "Este cuaderno es para una clasificacion multiple"
      ],
      "metadata": {
        "id": "tJkZa1BE1gvT"
      }
    },
    {
      "cell_type": "markdown",
      "metadata": {
        "id": "5dzlKaKtvNUG"
      },
      "source": [
        "##1. Importando librerías"
      ]
    },
    {
      "cell_type": "code",
      "metadata": {
        "id": "gySTtwvxvNUN"
      },
      "source": [
        "from keras.datasets import reuters\n",
        "from keras import layers, models\n",
        "import numpy as np"
      ],
      "execution_count": 1,
      "outputs": []
    },
    {
      "cell_type": "markdown",
      "metadata": {
        "id": "gK2kCbx1vNUO"
      },
      "source": [
        "##2. Descarguemos datos reuters de keras"
      ]
    },
    {
      "cell_type": "code",
      "metadata": {
        "id": "eS1nChnXvNUP",
        "colab": {
          "base_uri": "https://localhost:8080/"
        },
        "outputId": "e27609d4-5825-4530-ed36-9f2ae110cb87"
      },
      "source": [
        "(train_data, train_labels), (test_data, test_labels) = reuters.load_data(num_words=10000)"
      ],
      "execution_count": 2,
      "outputs": [
        {
          "output_type": "stream",
          "name": "stdout",
          "text": [
            "Downloading data from https://storage.googleapis.com/tensorflow/tf-keras-datasets/reuters.npz\n",
            "2110848/2110848 [==============================] - 0s 0us/step\n"
          ]
        }
      ]
    },
    {
      "cell_type": "markdown",
      "metadata": {
        "id": "yt6iIWGcvNUP"
      },
      "source": [
        "##3. Diccionario de palabras"
      ]
    },
    {
      "cell_type": "code",
      "metadata": {
        "id": "eFKR6NPbvNUP",
        "colab": {
          "base_uri": "https://localhost:8080/"
        },
        "outputId": "addf588c-6b0e-42f5-d676-5e8c54facb92"
      },
      "source": [
        "word_index = reuters.get_word_index()\n",
        "word_index = dict([(value,key) for (key,value) in word_index.items()])"
      ],
      "execution_count": 3,
      "outputs": [
        {
          "output_type": "stream",
          "name": "stdout",
          "text": [
            "Downloading data from https://storage.googleapis.com/tensorflow/tf-keras-datasets/reuters_word_index.json\n",
            "550378/550378 [==============================] - 0s 0us/step\n"
          ]
        }
      ]
    },
    {
      "cell_type": "code",
      "metadata": {
        "id": "S2M21Aw5vNUQ",
        "outputId": "cd876f03-bb7e-43da-c58e-c5b923b86ce5",
        "colab": {
          "base_uri": "https://localhost:8080/"
        }
      },
      "source": [
        "for _ in train_data[0]:\n",
        "    print(word_index.get( _ - 3))"
      ],
      "execution_count": 5,
      "outputs": [
        {
          "output_type": "stream",
          "name": "stdout",
          "text": [
            "None\n",
            "None\n",
            "None\n",
            "said\n",
            "as\n",
            "a\n",
            "result\n",
            "of\n",
            "its\n",
            "december\n",
            "acquisition\n",
            "of\n",
            "space\n",
            "co\n",
            "it\n",
            "expects\n",
            "earnings\n",
            "per\n",
            "share\n",
            "in\n",
            "1987\n",
            "of\n",
            "1\n",
            "15\n",
            "to\n",
            "1\n",
            "30\n",
            "dlrs\n",
            "per\n",
            "share\n",
            "up\n",
            "from\n",
            "70\n",
            "cts\n",
            "in\n",
            "1986\n",
            "the\n",
            "company\n",
            "said\n",
            "pretax\n",
            "net\n",
            "should\n",
            "rise\n",
            "to\n",
            "nine\n",
            "to\n",
            "10\n",
            "mln\n",
            "dlrs\n",
            "from\n",
            "six\n",
            "mln\n",
            "dlrs\n",
            "in\n",
            "1986\n",
            "and\n",
            "rental\n",
            "operation\n",
            "revenues\n",
            "to\n",
            "19\n",
            "to\n",
            "22\n",
            "mln\n",
            "dlrs\n",
            "from\n",
            "12\n",
            "5\n",
            "mln\n",
            "dlrs\n",
            "it\n",
            "said\n",
            "cash\n",
            "flow\n",
            "per\n",
            "share\n",
            "this\n",
            "year\n",
            "should\n",
            "be\n",
            "2\n",
            "50\n",
            "to\n",
            "three\n",
            "dlrs\n",
            "reuter\n",
            "3\n"
          ]
        }
      ]
    },
    {
      "cell_type": "markdown",
      "metadata": {
        "id": "JfPM85lPvNUR"
      },
      "source": [
        "##4.Función de vectorizar"
      ]
    },
    {
      "cell_type": "code",
      "metadata": {
        "id": "G80OGI-LvNUR"
      },
      "source": [
        "def vectorizar(sequences, dim=10000):\n",
        "    restults = np.zeros((len(sequences),dim))\n",
        "    for i, sequences in enumerate(sequences):\n",
        "        restults[i,sequences]=1\n",
        "    return restults"
      ],
      "execution_count": 6,
      "outputs": []
    },
    {
      "cell_type": "markdown",
      "metadata": {
        "id": "t7_cTCDmvNUR"
      },
      "source": [
        "##5. Transformando los datos"
      ]
    },
    {
      "cell_type": "code",
      "metadata": {
        "id": "qtqZF-bzvNUS"
      },
      "source": [
        "x_train = vectorizar(train_data)\n",
        "x_test = vectorizar(test_data)"
      ],
      "execution_count": 7,
      "outputs": []
    },
    {
      "cell_type": "code",
      "metadata": {
        "id": "wo-3rSAuvNUT"
      },
      "source": [
        "from keras.utils.np_utils import to_categorical"
      ],
      "execution_count": 8,
      "outputs": []
    },
    {
      "cell_type": "code",
      "metadata": {
        "id": "OhqEXJubvNUU"
      },
      "source": [
        "y_train = to_categorical(train_labels)\n",
        "y_test = to_categorical(test_labels)\n"
      ],
      "execution_count": 9,
      "outputs": []
    },
    {
      "cell_type": "code",
      "metadata": {
        "id": "xRhJErIGvNUU",
        "outputId": "a6c42a2c-520c-4ac7-a26b-2b11d959ed99",
        "colab": {
          "base_uri": "https://localhost:8080/"
        }
      },
      "source": [
        "train_labels[0]"
      ],
      "execution_count": 10,
      "outputs": [
        {
          "output_type": "execute_result",
          "data": {
            "text/plain": [
              "3"
            ]
          },
          "metadata": {},
          "execution_count": 10
        }
      ]
    },
    {
      "cell_type": "code",
      "metadata": {
        "id": "7XSB_eswvNUV",
        "outputId": "957ee72a-5526-4ffe-ff1a-6100e37e24e2",
        "colab": {
          "base_uri": "https://localhost:8080/"
        }
      },
      "source": [
        "y_train[0]"
      ],
      "execution_count": 11,
      "outputs": [
        {
          "output_type": "execute_result",
          "data": {
            "text/plain": [
              "array([0., 0., 0., 1., 0., 0., 0., 0., 0., 0., 0., 0., 0., 0., 0., 0., 0.,\n",
              "       0., 0., 0., 0., 0., 0., 0., 0., 0., 0., 0., 0., 0., 0., 0., 0., 0.,\n",
              "       0., 0., 0., 0., 0., 0., 0., 0., 0., 0., 0., 0.], dtype=float32)"
            ]
          },
          "metadata": {},
          "execution_count": 11
        }
      ]
    },
    {
      "cell_type": "markdown",
      "metadata": {
        "id": "7KqfIi99vNUV"
      },
      "source": [
        "##6. Creando el modelo para clasificacion multiple\n",
        "Este modelo esta sin regularizadores\n",
        "Se recomienda la funcion de activacion Softmax en la ultima capa\n",
        "Y  un categorical crossentropy para funcion de perdida"
      ]
    },
    {
      "cell_type": "code",
      "metadata": {
        "id": "aB8KyKDDvNUV"
      },
      "source": [
        "model = models.Sequential()\n",
        "model.add(layers.Dense(64, activation='relu', input_shape=(10000,)))\n",
        "model.add(layers.Dense(64, activation='relu'))\n",
        "model.add(layers.Dense(46, activation='softmax'))"
      ],
      "execution_count": 12,
      "outputs": []
    },
    {
      "cell_type": "code",
      "metadata": {
        "id": "xHRbJeufvNUW"
      },
      "source": [
        "model.compile(optimizer='rmsprop',\n",
        "              loss='categorical_crossentropy',\n",
        "              metrics=['acc']\n",
        "             )"
      ],
      "execution_count": 13,
      "outputs": []
    },
    {
      "cell_type": "code",
      "metadata": {
        "id": "du5C-sFGvNUW"
      },
      "source": [
        "x_val = x_train[:1000]\n",
        "partial_x_train = x_train[1000:]\n",
        "\n",
        "y_val = y_train[:1000]\n",
        "partial_y_train =  y_train[1000:]"
      ],
      "execution_count": 14,
      "outputs": []
    },
    {
      "cell_type": "markdown",
      "metadata": {
        "id": "3JEChhaPvNUX"
      },
      "source": [
        "## 7 Entrenando el modelo"
      ]
    },
    {
      "cell_type": "code",
      "metadata": {
        "id": "DNw1_Md_vNUX",
        "outputId": "555017f2-32f0-4e0d-a268-e0609a0b7bd4",
        "colab": {
          "base_uri": "https://localhost:8080/"
        }
      },
      "source": [
        "history = model.fit(partial_x_train,\n",
        "                   partial_y_train,\n",
        "                   epochs=9,\n",
        "                   batch_size=512,\n",
        "                   validation_data=(x_val,y_val))"
      ],
      "execution_count": 15,
      "outputs": [
        {
          "output_type": "stream",
          "name": "stdout",
          "text": [
            "Epoch 1/9\n",
            "16/16 [==============================] - 1s 44ms/step - loss: 2.9960 - acc: 0.4465 - val_loss: 1.9657 - val_acc: 0.5980\n",
            "Epoch 2/9\n",
            "16/16 [==============================] - 1s 38ms/step - loss: 1.6221 - acc: 0.6652 - val_loss: 1.3814 - val_acc: 0.7020\n",
            "Epoch 3/9\n",
            "16/16 [==============================] - 1s 51ms/step - loss: 1.2058 - acc: 0.7459 - val_loss: 1.1877 - val_acc: 0.7360\n",
            "Epoch 4/9\n",
            "16/16 [==============================] - 1s 47ms/step - loss: 0.9790 - acc: 0.7890 - val_loss: 1.0906 - val_acc: 0.7590\n",
            "Epoch 5/9\n",
            "16/16 [==============================] - 0s 31ms/step - loss: 0.8142 - acc: 0.8230 - val_loss: 1.0190 - val_acc: 0.7740\n",
            "Epoch 6/9\n",
            "16/16 [==============================] - 1s 31ms/step - loss: 0.6813 - acc: 0.8505 - val_loss: 0.9538 - val_acc: 0.7870\n",
            "Epoch 7/9\n",
            "16/16 [==============================] - 0s 31ms/step - loss: 0.5720 - acc: 0.8780 - val_loss: 0.9035 - val_acc: 0.8070\n",
            "Epoch 8/9\n",
            "16/16 [==============================] - 1s 34ms/step - loss: 0.4868 - acc: 0.8940 - val_loss: 0.8934 - val_acc: 0.8030\n",
            "Epoch 9/9\n",
            "16/16 [==============================] - 0s 31ms/step - loss: 0.4071 - acc: 0.9116 - val_loss: 0.8893 - val_acc: 0.8120\n"
          ]
        }
      ]
    },
    {
      "cell_type": "markdown",
      "metadata": {
        "id": "3i2nqbm1vNUX"
      },
      "source": [
        "##8. Validamos resultados"
      ]
    },
    {
      "cell_type": "code",
      "metadata": {
        "id": "YkFGeMxovNUX",
        "outputId": "c8a61ef8-8611-46d6-d9f1-1c6670133aa5",
        "colab": {
          "base_uri": "https://localhost:8080/",
          "height": 830
        }
      },
      "source": [
        "import matplotlib.pyplot as plt\n",
        "\n",
        "history_dict = history.history\n",
        "loss_values = history_dict['loss']\n",
        "val_loss_values = history_dict['val_loss']\n",
        "\n",
        "fig = plt.figure(figsize=(10,10))\n",
        "epoch = range(1,len(loss_values)+1)\n",
        "plt.plot(epoch,loss_values, 'o',label='training')\n",
        "plt.plot(epoch,val_loss_values, '--',label='val')\n",
        "plt.legend()\n",
        "plt.show()"
      ],
      "execution_count": 16,
      "outputs": [
        {
          "output_type": "display_data",
          "data": {
            "text/plain": [
              "<Figure size 1000x1000 with 1 Axes>"
            ],
            "image/png": "[encoded data removed]"
          },
          "metadata": {}
        }
      ]
    },
    {
      "cell_type": "code",
      "metadata": {
        "id": "Mm5-NBX5vNUY",
        "outputId": "0f457a4a-f0bb-4b86-8ea1-50e9a564bd51",
        "colab": {
          "base_uri": "https://localhost:8080/"
        }
      },
      "source": [
        "model.evaluate(x_test, y_test)"
      ],
      "execution_count": 17,
      "outputs": [
        {
          "output_type": "stream",
          "name": "stdout",
          "text": [
            "71/71 [==============================] - 0s 2ms/step - loss: 0.9648 - acc: 0.7765\n"
          ]
        },
        {
          "output_type": "execute_result",
          "data": {
            "text/plain": [
              "[0.9647628664970398, 0.7764915227890015]"
            ]
          },
          "metadata": {},
          "execution_count": 17
        }
      ]
    },
    {
      "cell_type": "code",
      "metadata": {
        "id": "EBQV7GT2vNUY",
        "colab": {
          "base_uri": "https://localhost:8080/"
        },
        "outputId": "7494f7e4-ad28-4392-ecb7-c66a1b8f5dc4"
      },
      "source": [
        "predictions = model.predict(x_test)"
      ],
      "execution_count": 18,
      "outputs": [
        {
          "output_type": "stream",
          "name": "stdout",
          "text": [
            "71/71 [==============================] - 0s 3ms/step\n"
          ]
        }
      ]
    },
    {
      "cell_type": "code",
      "metadata": {
        "id": "6r1YZAbDvNUY",
        "outputId": "a1e9b9f9-5858-4526-81f7-bf56b5914947",
        "colab": {
          "base_uri": "https://localhost:8080/"
        }
      },
      "source": [
        "predictions[0]"
      ],
      "execution_count": 19,
      "outputs": [
        {
          "output_type": "execute_result",
          "data": {
            "text/plain": [
              "array([3.2319871e-04, 7.7645661e-04, 1.1370184e-04, 6.4975131e-01,\n",
              "       3.3570275e-01, 7.4548072e-05, 9.2633170e-05, 6.0738239e-06,\n",
              "       1.6260397e-03, 4.5662182e-06, 4.5089440e-05, 1.0089986e-03,\n",
              "       1.4095127e-05, 5.8421568e-04, 2.0152661e-04, 9.3769449e-05,\n",
              "       2.8138177e-03, 3.1771054e-04, 3.3757920e-04, 1.6785888e-03,\n",
              "       2.2252603e-03, 3.2367511e-04, 3.0381966e-06, 3.7431504e-04,\n",
              "       3.3452263e-05, 1.2248308e-04, 2.2092256e-05, 4.7058302e-06,\n",
              "       1.0791790e-04, 1.3796183e-04, 5.0780873e-05, 2.0975614e-05,\n",
              "       6.1573621e-05, 4.7829304e-05, 1.9346517e-04, 1.1194102e-05,\n",
              "       3.7241651e-05, 9.4783347e-05, 3.0497724e-05, 2.9056333e-04,\n",
              "       9.1132997e-06, 1.3158930e-05, 6.9290640e-05, 3.7057776e-05,\n",
              "       4.6376415e-05, 6.4506879e-05], dtype=float32)"
            ]
          },
          "metadata": {},
          "execution_count": 19
        }
      ]
    },
    {
      "cell_type": "code",
      "metadata": {
        "id": "uwzyYoLQvNUZ",
        "outputId": "49c7ccef-d31e-4a27-dfaf-bc86c876e6fe",
        "colab": {
          "base_uri": "https://localhost:8080/"
        }
      },
      "source": [
        "np.sum(predictions[0])"
      ],
      "execution_count": 20,
      "outputs": [
        {
          "output_type": "execute_result",
          "data": {
            "text/plain": [
              "1.0"
            ]
          },
          "metadata": {},
          "execution_count": 20
        }
      ]
    },
    {
      "cell_type": "code",
      "metadata": {
        "id": "aOq313kevNUZ",
        "outputId": "5051bc69-aa3e-4fb2-ef01-f99529603a42",
        "colab": {
          "base_uri": "https://localhost:8080/"
        }
      },
      "source": [
        "np.argmax([2,5,65,3,6,7])"
      ],
      "execution_count": 21,
      "outputs": [
        {
          "output_type": "execute_result",
          "data": {
            "text/plain": [
              "2"
            ]
          },
          "metadata": {},
          "execution_count": 21
        }
      ]
    },
    {
      "cell_type": "code",
      "metadata": {
        "id": "iWZXdP4xvNUZ",
        "outputId": "6bbea50c-484e-4e9e-b471-ac89b0f3d8d9",
        "colab": {
          "base_uri": "https://localhost:8080/"
        }
      },
      "source": [
        "np.argmax(predictions[0])"
      ],
      "execution_count": 22,
      "outputs": [
        {
          "output_type": "execute_result",
          "data": {
            "text/plain": [
              "3"
            ]
          },
          "metadata": {},
          "execution_count": 22
        }
      ]
    }
  ]
}