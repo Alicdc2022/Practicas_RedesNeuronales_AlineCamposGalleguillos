{
  "nbformat": 4,
  "nbformat_minor": 0,
  "metadata": {
    "kernelspec": {
      "display_name": "Python 3",
      "language": "python",
      "name": "python3"
    },
    "language_info": {
      "codemirror_mode": {
        "name": "ipython",
        "version": 3
      },
      "file_extension": ".py",
      "mimetype": "text/x-python",
      "name": "python",
      "nbconvert_exporter": "python",
      "pygments_lexer": "ipython3",
      "version": "3.7.7"
    },
    "colab": {
      "provenance": [],
      "include_colab_link": true
    }
  },
  "cells": [
    {
      "cell_type": "markdown",
      "metadata": {
        "id": "view-in-github",
        "colab_type": "text"
      },
      "source": [
        "<a href=\"https://colab.research.google.com/github/Alicdc2022/Practicas_RedesNeuronales_AlineCamposGalleguillos/blob/main/Modelo__Clasificacion_Binaria_alinecampos.ipynb\" target=\"_parent\"><img src=\"https://colab.research.google.com/assets/colab-badge.svg\" alt=\"Open In Colab\"/></a>"
      ]
    },
    {
      "cell_type": "markdown",
      "source": [
        "# Este cuaderno es para clasificacion binaria"
      ],
      "metadata": {
        "id": "xpjc3lDKy5TY"
      }
    },
    {
      "cell_type": "markdown",
      "metadata": {
        "id": "KT2sLmD8u7XI"
      },
      "source": [
        "## 1 Importamos librerías"
      ]
    },
    {
      "cell_type": "code",
      "metadata": {
        "id": "aYLou5Cgu7XP"
      },
      "source": [
        "from keras.datasets import imdb\n",
        "from keras import models, layers, optimizers\n",
        "import numpy as np\n"
      ],
      "execution_count": 1,
      "outputs": []
    },
    {
      "cell_type": "markdown",
      "metadata": {
        "id": "0UfuiozUu7XQ"
      },
      "source": [
        "##2 Descargamos los datos de imdb - Keras"
      ]
    },
    {
      "cell_type": "code",
      "metadata": {
        "id": "LdUoLkeru7XQ",
        "colab": {
          "base_uri": "https://localhost:8080/"
        },
        "outputId": "969aa490-449f-434e-aec4-23658c1aaee9"
      },
      "source": [
        "(train_data, train_labels), (test_data, test_labels) = imdb.load_data(num_words=10000)"
      ],
      "execution_count": 2,
      "outputs": [
        {
          "output_type": "stream",
          "name": "stdout",
          "text": [
            "Downloading data from https://storage.googleapis.com/tensorflow/tf-keras-datasets/imdb.npz\n",
            "17464789/17464789 [==============================] - 0s 0us/step\n"
          ]
        }
      ]
    },
    {
      "cell_type": "code",
      "metadata": {
        "scrolled": true,
        "id": "NUTCpE7Fu7XR",
        "outputId": "39d159ae-5bcc-4bf9-b043-1f1741eae70a",
        "colab": {
          "base_uri": "https://localhost:8080/"
        }
      },
      "source": [
        "train_data[0]"
      ],
      "execution_count": 3,
      "outputs": [
        {
          "output_type": "execute_result",
          "data": {
            "text/plain": [
              "[1,\n",
              " 14,\n",
              " 22,\n",
              " 16,\n",
              " 43,\n",
              " 530,\n",
              " 973,\n",
              " 1622,\n",
              " 1385,\n",
              " 65,\n",
              " 458,\n",
              " 4468,\n",
              " 66,\n",
              " 3941,\n",
              " 4,\n",
              " 173,\n",
              " 36,\n",
              " 256,\n",
              " 5,\n",
              " 25,\n",
              " 100,\n",
              " 43,\n",
              " 838,\n",
              " 112,\n",
              " 50,\n",
              " 670,\n",
              " 2,\n",
              " 9,\n",
              " 35,\n",
              " 480,\n",
              " 284,\n",
              " 5,\n",
              " 150,\n",
              " 4,\n",
              " 172,\n",
              " 112,\n",
              " 167,\n",
              " 2,\n",
              " 336,\n",
              " 385,\n",
              " 39,\n",
              " 4,\n",
              " 172,\n",
              " 4536,\n",
              " 1111,\n",
              " 17,\n",
              " 546,\n",
              " 38,\n",
              " 13,\n",
              " 447,\n",
              " 4,\n",
              " 192,\n",
              " 50,\n",
              " 16,\n",
              " 6,\n",
              " 147,\n",
              " 2025,\n",
              " 19,\n",
              " 14,\n",
              " 22,\n",
              " 4,\n",
              " 1920,\n",
              " 4613,\n",
              " 469,\n",
              " 4,\n",
              " 22,\n",
              " 71,\n",
              " 87,\n",
              " 12,\n",
              " 16,\n",
              " 43,\n",
              " 530,\n",
              " 38,\n",
              " 76,\n",
              " 15,\n",
              " 13,\n",
              " 1247,\n",
              " 4,\n",
              " 22,\n",
              " 17,\n",
              " 515,\n",
              " 17,\n",
              " 12,\n",
              " 16,\n",
              " 626,\n",
              " 18,\n",
              " 2,\n",
              " 5,\n",
              " 62,\n",
              " 386,\n",
              " 12,\n",
              " 8,\n",
              " 316,\n",
              " 8,\n",
              " 106,\n",
              " 5,\n",
              " 4,\n",
              " 2223,\n",
              " 5244,\n",
              " 16,\n",
              " 480,\n",
              " 66,\n",
              " 3785,\n",
              " 33,\n",
              " 4,\n",
              " 130,\n",
              " 12,\n",
              " 16,\n",
              " 38,\n",
              " 619,\n",
              " 5,\n",
              " 25,\n",
              " 124,\n",
              " 51,\n",
              " 36,\n",
              " 135,\n",
              " 48,\n",
              " 25,\n",
              " 1415,\n",
              " 33,\n",
              " 6,\n",
              " 22,\n",
              " 12,\n",
              " 215,\n",
              " 28,\n",
              " 77,\n",
              " 52,\n",
              " 5,\n",
              " 14,\n",
              " 407,\n",
              " 16,\n",
              " 82,\n",
              " 2,\n",
              " 8,\n",
              " 4,\n",
              " 107,\n",
              " 117,\n",
              " 5952,\n",
              " 15,\n",
              " 256,\n",
              " 4,\n",
              " 2,\n",
              " 7,\n",
              " 3766,\n",
              " 5,\n",
              " 723,\n",
              " 36,\n",
              " 71,\n",
              " 43,\n",
              " 530,\n",
              " 476,\n",
              " 26,\n",
              " 400,\n",
              " 317,\n",
              " 46,\n",
              " 7,\n",
              " 4,\n",
              " 2,\n",
              " 1029,\n",
              " 13,\n",
              " 104,\n",
              " 88,\n",
              " 4,\n",
              " 381,\n",
              " 15,\n",
              " 297,\n",
              " 98,\n",
              " 32,\n",
              " 2071,\n",
              " 56,\n",
              " 26,\n",
              " 141,\n",
              " 6,\n",
              " 194,\n",
              " 7486,\n",
              " 18,\n",
              " 4,\n",
              " 226,\n",
              " 22,\n",
              " 21,\n",
              " 134,\n",
              " 476,\n",
              " 26,\n",
              " 480,\n",
              " 5,\n",
              " 144,\n",
              " 30,\n",
              " 5535,\n",
              " 18,\n",
              " 51,\n",
              " 36,\n",
              " 28,\n",
              " 224,\n",
              " 92,\n",
              " 25,\n",
              " 104,\n",
              " 4,\n",
              " 226,\n",
              " 65,\n",
              " 16,\n",
              " 38,\n",
              " 1334,\n",
              " 88,\n",
              " 12,\n",
              " 16,\n",
              " 283,\n",
              " 5,\n",
              " 16,\n",
              " 4472,\n",
              " 113,\n",
              " 103,\n",
              " 32,\n",
              " 15,\n",
              " 16,\n",
              " 5345,\n",
              " 19,\n",
              " 178,\n",
              " 32]"
            ]
          },
          "metadata": {},
          "execution_count": 3
        }
      ]
    },
    {
      "cell_type": "code",
      "metadata": {
        "id": "1YdlJmW6u7XS",
        "outputId": "a0af0777-ada0-4e60-80a6-d71affa941ad",
        "colab": {
          "base_uri": "https://localhost:8080/"
        }
      },
      "source": [
        "train_labels[1]"
      ],
      "execution_count": 4,
      "outputs": [
        {
          "output_type": "execute_result",
          "data": {
            "text/plain": [
              "0"
            ]
          },
          "metadata": {},
          "execution_count": 4
        }
      ]
    },
    {
      "cell_type": "markdown",
      "metadata": {
        "id": "gozWfZjXu7XT"
      },
      "source": [
        "## 3. Diccionario de palabras"
      ]
    },
    {
      "cell_type": "code",
      "metadata": {
        "id": "EPBw0xPyu7XT",
        "colab": {
          "base_uri": "https://localhost:8080/"
        },
        "outputId": "13f39a65-afd8-4244-e286-d25315203577"
      },
      "source": [
        "word_index = imdb.get_word_index()\n",
        "word_index = dict([(value,key) for (key,value) in word_index.items()])"
      ],
      "execution_count": 5,
      "outputs": [
        {
          "output_type": "stream",
          "name": "stdout",
          "text": [
            "Downloading data from https://storage.googleapis.com/tensorflow/tf-keras-datasets/imdb_word_index.json\n",
            "1641221/1641221 [==============================] - 0s 0us/step\n"
          ]
        }
      ]
    },
    {
      "cell_type": "code",
      "metadata": {
        "scrolled": true,
        "id": "hG5ic6MNu7XU",
        "outputId": "4627006c-6177-4024-8f0d-38f0a0bd789f",
        "colab": {
          "base_uri": "https://localhost:8080/"
        }
      },
      "source": [
        "for _ in train_data[0]:\n",
        "    print(word_index.get( _ - 3))"
      ],
      "execution_count": 6,
      "outputs": [
        {
          "output_type": "stream",
          "name": "stdout",
          "text": [
            "None\n",
            "this\n",
            "film\n",
            "was\n",
            "just\n",
            "brilliant\n",
            "casting\n",
            "location\n",
            "scenery\n",
            "story\n",
            "direction\n",
            "everyone's\n",
            "really\n",
            "suited\n",
            "the\n",
            "part\n",
            "they\n",
            "played\n",
            "and\n",
            "you\n",
            "could\n",
            "just\n",
            "imagine\n",
            "being\n",
            "there\n",
            "robert\n",
            "None\n",
            "is\n",
            "an\n",
            "amazing\n",
            "actor\n",
            "and\n",
            "now\n",
            "the\n",
            "same\n",
            "being\n",
            "director\n",
            "None\n",
            "father\n",
            "came\n",
            "from\n",
            "the\n",
            "same\n",
            "scottish\n",
            "island\n",
            "as\n",
            "myself\n",
            "so\n",
            "i\n",
            "loved\n",
            "the\n",
            "fact\n",
            "there\n",
            "was\n",
            "a\n",
            "real\n",
            "connection\n",
            "with\n",
            "this\n",
            "film\n",
            "the\n",
            "witty\n",
            "remarks\n",
            "throughout\n",
            "the\n",
            "film\n",
            "were\n",
            "great\n",
            "it\n",
            "was\n",
            "just\n",
            "brilliant\n",
            "so\n",
            "much\n",
            "that\n",
            "i\n",
            "bought\n",
            "the\n",
            "film\n",
            "as\n",
            "soon\n",
            "as\n",
            "it\n",
            "was\n",
            "released\n",
            "for\n",
            "None\n",
            "and\n",
            "would\n",
            "recommend\n",
            "it\n",
            "to\n",
            "everyone\n",
            "to\n",
            "watch\n",
            "and\n",
            "the\n",
            "fly\n",
            "fishing\n",
            "was\n",
            "amazing\n",
            "really\n",
            "cried\n",
            "at\n",
            "the\n",
            "end\n",
            "it\n",
            "was\n",
            "so\n",
            "sad\n",
            "and\n",
            "you\n",
            "know\n",
            "what\n",
            "they\n",
            "say\n",
            "if\n",
            "you\n",
            "cry\n",
            "at\n",
            "a\n",
            "film\n",
            "it\n",
            "must\n",
            "have\n",
            "been\n",
            "good\n",
            "and\n",
            "this\n",
            "definitely\n",
            "was\n",
            "also\n",
            "None\n",
            "to\n",
            "the\n",
            "two\n",
            "little\n",
            "boy's\n",
            "that\n",
            "played\n",
            "the\n",
            "None\n",
            "of\n",
            "norman\n",
            "and\n",
            "paul\n",
            "they\n",
            "were\n",
            "just\n",
            "brilliant\n",
            "children\n",
            "are\n",
            "often\n",
            "left\n",
            "out\n",
            "of\n",
            "the\n",
            "None\n",
            "list\n",
            "i\n",
            "think\n",
            "because\n",
            "the\n",
            "stars\n",
            "that\n",
            "play\n",
            "them\n",
            "all\n",
            "grown\n",
            "up\n",
            "are\n",
            "such\n",
            "a\n",
            "big\n",
            "profile\n",
            "for\n",
            "the\n",
            "whole\n",
            "film\n",
            "but\n",
            "these\n",
            "children\n",
            "are\n",
            "amazing\n",
            "and\n",
            "should\n",
            "be\n",
            "praised\n",
            "for\n",
            "what\n",
            "they\n",
            "have\n",
            "done\n",
            "don't\n",
            "you\n",
            "think\n",
            "the\n",
            "whole\n",
            "story\n",
            "was\n",
            "so\n",
            "lovely\n",
            "because\n",
            "it\n",
            "was\n",
            "true\n",
            "and\n",
            "was\n",
            "someone's\n",
            "life\n",
            "after\n",
            "all\n",
            "that\n",
            "was\n",
            "shared\n",
            "with\n",
            "us\n",
            "all\n"
          ]
        }
      ]
    },
    {
      "cell_type": "markdown",
      "metadata": {
        "id": "Wp179pKAu7XU"
      },
      "source": [
        "##4. Función de one-hot encoding"
      ]
    },
    {
      "cell_type": "code",
      "metadata": {
        "id": "c9RHPL_Zu7XU"
      },
      "source": [
        "def vectorizar(sequences, dim=10000):\n",
        "    restults = np.zeros((len(sequences),dim))\n",
        "    for i, sequences in enumerate(sequences):\n",
        "        restults[i,sequences]=1\n",
        "    return restults"
      ],
      "execution_count": 7,
      "outputs": []
    },
    {
      "cell_type": "markdown",
      "metadata": {
        "id": "QkDyYZVIu7XV"
      },
      "source": [
        "## 5. Transformamos datos"
      ]
    },
    {
      "cell_type": "code",
      "metadata": {
        "id": "zRWfPd8Mu7XV"
      },
      "source": [
        "x_train = vectorizar(train_data)\n",
        "x_test = vectorizar(test_data)"
      ],
      "execution_count": 8,
      "outputs": []
    },
    {
      "cell_type": "code",
      "metadata": {
        "id": "Y-8uysGru7XV"
      },
      "source": [
        "y_train = np.asarray(train_labels).astype('float32')\n",
        "y_test = np.asarray(test_labels).astype('float32')"
      ],
      "execution_count": 9,
      "outputs": []
    },
    {
      "cell_type": "markdown",
      "metadata": {
        "id": "vq1SZL1eu7XW"
      },
      "source": [
        "##6. Creamos el modelo para clasificacion binaria\n",
        "\n",
        "Se utilizara modelos pequeños con funcion ativacion relu sin regularizadores.\n",
        "Para la ultima capa en un tipo de clasificacion binaria es recomendable utilizar funciones de ativacion sigmoid.\n",
        "Y para la funcion de perdida utilizaremos binary crossentropy"
      ]
    },
    {
      "cell_type": "code",
      "metadata": {
        "id": "cvUOgggqu7XW"
      },
      "source": [
        "model = models.Sequential()\n",
        "model.add(layers.Dense(16, activation='relu', input_shape=(10000,)))\n",
        "model.add(layers.Dense(16, activation='relu'))\n",
        "model.add(layers.Dense(1, activation='sigmoid'))"
      ],
      "execution_count": 11,
      "outputs": []
    },
    {
      "cell_type": "code",
      "metadata": {
        "id": "t-gny5Ceu7XX"
      },
      "source": [
        "model.compile(optimizer='rmsprop',\n",
        "              loss='binary_crossentropy',\n",
        "             metrics=['acc'])"
      ],
      "execution_count": 12,
      "outputs": []
    },
    {
      "cell_type": "code",
      "metadata": {
        "id": "AXSDhaX0u7XX"
      },
      "source": [
        "x_val = x_train[:10000]\n",
        "partial_x_train = x_train[10000:]\n",
        "\n",
        "y_val = y_train[:10000]\n",
        "partial_y_train =  y_train[10000:]"
      ],
      "execution_count": 13,
      "outputs": []
    },
    {
      "cell_type": "markdown",
      "metadata": {
        "id": "mNq94y46u7XX"
      },
      "source": [
        "## 7.Entrenando"
      ]
    },
    {
      "cell_type": "code",
      "metadata": {
        "scrolled": true,
        "id": "HT_gFZyou7XX",
        "outputId": "cd672f73-f296-49d9-e4ab-89c08ca737df",
        "colab": {
          "base_uri": "https://localhost:8080/"
        }
      },
      "source": [
        "history = model.fit(partial_x_train,\n",
        "                   partial_y_train,\n",
        "                   epochs=4,\n",
        "                   batch_size=512,\n",
        "                   validation_data=(x_val,y_val))"
      ],
      "execution_count": 14,
      "outputs": [
        {
          "output_type": "stream",
          "name": "stdout",
          "text": [
            "Epoch 1/4\n",
            "30/30 [==============================] - 6s 172ms/step - loss: 0.5907 - acc: 0.7521 - val_loss: 0.4792 - val_acc: 0.8533\n",
            "Epoch 2/4\n",
            "30/30 [==============================] - 3s 91ms/step - loss: 0.4038 - acc: 0.8776 - val_loss: 0.3658 - val_acc: 0.8760\n",
            "Epoch 3/4\n",
            "30/30 [==============================] - 2s 75ms/step - loss: 0.2968 - acc: 0.9083 - val_loss: 0.3108 - val_acc: 0.8839\n",
            "Epoch 4/4\n",
            "30/30 [==============================] - 1s 42ms/step - loss: 0.2350 - acc: 0.9234 - val_loss: 0.2969 - val_acc: 0.8802\n"
          ]
        }
      ]
    },
    {
      "cell_type": "markdown",
      "metadata": {
        "id": "cOJ-XDdgu7XY"
      },
      "source": [
        "##8. Analizamos resultados"
      ]
    },
    {
      "cell_type": "code",
      "metadata": {
        "id": "ZSba6udhu7XY",
        "outputId": "091b8d6f-0bae-4fb5-ad22-2b76ae764357",
        "colab": {
          "base_uri": "https://localhost:8080/",
          "height": 830
        }
      },
      "source": [
        "import matplotlib.pyplot as plt\n",
        "\n",
        "history_dict = history.history\n",
        "loss_values = history_dict['loss']\n",
        "val_loss_values = history_dict['val_loss']\n",
        "\n",
        "fig = plt.figure(figsize=(10,10))\n",
        "epoch = range(1,len(loss_values)+1)\n",
        "plt.plot(epoch,loss_values, 'o',label='training')\n",
        "plt.plot(epoch,val_loss_values, '--',label='val')\n",
        "plt.legend()\n",
        "plt.show()"
      ],
      "execution_count": 15,
      "outputs": [
        {
          "output_type": "display_data",
          "data": {
            "text/plain": [
              "<Figure size 1000x1000 with 1 Axes>"
            ],
            "image/png": "[encoded data removed]"
          },
          "metadata": {}
        }
      ]
    },
    {
      "cell_type": "code",
      "metadata": {
        "id": "KXuRoCmBu7XY",
        "outputId": "df320aca-7276-4295-c0c2-396498dcaa7a",
        "colab": {
          "base_uri": "https://localhost:8080/"
        }
      },
      "source": [
        "model.evaluate(x_test, y_test)"
      ],
      "execution_count": 16,
      "outputs": [
        {
          "output_type": "stream",
          "name": "stdout",
          "text": [
            "782/782 [==============================] - 2s 2ms/step - loss: 0.3064 - acc: 0.8782\n"
          ]
        },
        {
          "output_type": "execute_result",
          "data": {
            "text/plain": [
              "[0.3063729405403137, 0.8781599998474121]"
            ]
          },
          "metadata": {},
          "execution_count": 16
        }
      ]
    },
    {
      "cell_type": "markdown",
      "metadata": {
        "id": "WZa183OAu7XZ"
      },
      "source": [
        "## 9. Predicciones"
      ]
    },
    {
      "cell_type": "code",
      "metadata": {
        "id": "WuMvikWZu7XZ",
        "colab": {
          "base_uri": "https://localhost:8080/"
        },
        "outputId": "4afae394-d58a-4453-9990-df903fe3eeee"
      },
      "source": [
        "predictions = model.predict(x_test)"
      ],
      "execution_count": 17,
      "outputs": [
        {
          "output_type": "stream",
          "name": "stdout",
          "text": [
            "782/782 [==============================] - 3s 4ms/step\n"
          ]
        }
      ]
    },
    {
      "cell_type": "code",
      "metadata": {
        "id": "7OiVR1lju7XZ",
        "outputId": "5578f468-5bb2-4917-a0ce-7f0a8a842c55",
        "colab": {
          "base_uri": "https://localhost:8080/"
        }
      },
      "source": [
        "predictions[1]"
      ],
      "execution_count": 18,
      "outputs": [
        {
          "output_type": "execute_result",
          "data": {
            "text/plain": [
              "array([0.99863565], dtype=float32)"
            ]
          },
          "metadata": {},
          "execution_count": 18
        }
      ]
    }
  ]
}