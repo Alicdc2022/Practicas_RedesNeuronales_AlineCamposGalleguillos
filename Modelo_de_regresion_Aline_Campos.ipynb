{
  "nbformat": 4,
  "nbformat_minor": 0,
  "metadata": {
    "kernelspec": {
      "display_name": "Python 3",
      "language": "python",
      "name": "python3"
    },
    "language_info": {
      "codemirror_mode": {
        "name": "ipython",
        "version": 3
      },
      "file_extension": ".py",
      "mimetype": "text/x-python",
      "name": "python",
      "nbconvert_exporter": "python",
      "pygments_lexer": "ipython3",
      "version": "3.7.7"
    },
    "colab": {
      "provenance": [],
      "include_colab_link": true
    }
  },
  "cells": [
    {
      "cell_type": "markdown",
      "metadata": {
        "id": "view-in-github",
        "colab_type": "text"
      },
      "source": [
        "<a href=\"https://colab.research.google.com/github/Alicdc2022/Practicas_RedesNeuronales_AlineCamposGalleguillos/blob/main/Modelo_de_regresion_Aline_Campos.ipynb\" target=\"_parent\"><img src=\"https://colab.research.google.com/assets/colab-badge.svg\" alt=\"Open In Colab\"/></a>"
      ]
    },
    {
      "cell_type": "markdown",
      "source": [
        "Cuaderno con modelo para regresion"
      ],
      "metadata": {
        "id": "xTdvg4s23FCj"
      }
    },
    {
      "cell_type": "markdown",
      "metadata": {
        "id": "dAW9c4NmwB0e"
      },
      "source": [
        "# Regression"
      ]
    },
    {
      "cell_type": "markdown",
      "metadata": {
        "id": "J46eZxCQwB0n"
      },
      "source": [
        "##1. Importando librerías"
      ]
    },
    {
      "cell_type": "code",
      "metadata": {
        "id": "R7lPFS0-wB0o"
      },
      "source": [
        "import pandas as pd\n",
        "import numpy as np\n",
        "from keras.datasets import boston_housing\n",
        "from keras import models, layers, optimizers\n"
      ],
      "execution_count": 1,
      "outputs": []
    },
    {
      "cell_type": "markdown",
      "metadata": {
        "id": "PYfXtOqHwB0o"
      },
      "source": [
        "##2. Descargando datos"
      ]
    },
    {
      "cell_type": "code",
      "metadata": {
        "id": "TMbfTzVywB0p",
        "colab": {
          "base_uri": "https://localhost:8080/"
        },
        "outputId": "276fadff-d58d-4295-f0bb-9e8c238effca"
      },
      "source": [
        "(train_data , train_targets) ,(test_data,test_targets) = boston_housing.load_data()"
      ],
      "execution_count": 2,
      "outputs": [
        {
          "output_type": "stream",
          "name": "stdout",
          "text": [
            "Downloading data from https://storage.googleapis.com/tensorflow/tf-keras-datasets/boston_housing.npz\n",
            "57026/57026 [==============================] - 0s 0us/step\n"
          ]
        }
      ]
    },
    {
      "cell_type": "code",
      "metadata": {
        "id": "VHlcO1HPwB0p",
        "outputId": "07578133-db2e-4d72-f957-87a817db27c6",
        "colab": {
          "base_uri": "https://localhost:8080/"
        }
      },
      "source": [
        "train_data[1]"
      ],
      "execution_count": 3,
      "outputs": [
        {
          "output_type": "execute_result",
          "data": {
            "text/plain": [
              "array([2.1770e-02, 8.2500e+01, 2.0300e+00, 0.0000e+00, 4.1500e-01,\n",
              "       7.6100e+00, 1.5700e+01, 6.2700e+00, 2.0000e+00, 3.4800e+02,\n",
              "       1.4700e+01, 3.9538e+02, 3.1100e+00])"
            ]
          },
          "metadata": {},
          "execution_count": 3
        }
      ]
    },
    {
      "cell_type": "code",
      "metadata": {
        "id": "fHBPBETUwB0q",
        "outputId": "636dbfdb-fd20-4860-d01c-a6bace1f9450",
        "colab": {
          "base_uri": "https://localhost:8080/"
        }
      },
      "source": [
        "train_targets[1]"
      ],
      "execution_count": 4,
      "outputs": [
        {
          "output_type": "execute_result",
          "data": {
            "text/plain": [
              "42.3"
            ]
          },
          "metadata": {},
          "execution_count": 4
        }
      ]
    },
    {
      "cell_type": "markdown",
      "metadata": {
        "id": "8Ddu6QfXwB0r"
      },
      "source": [
        "##3. Normalización"
      ]
    },
    {
      "cell_type": "code",
      "metadata": {
        "id": "8UOpZwMswB0r"
      },
      "source": [
        "mean = train_data.mean(axis=0)\n",
        "train_data = train_data  - mean\n",
        "std = train_data.std(axis=0)\n",
        "train_data = train_data / std\n",
        "\n",
        "test_data = test_data - mean\n",
        "test_data = test_data / std\n",
        "\n"
      ],
      "execution_count": 5,
      "outputs": []
    },
    {
      "cell_type": "markdown",
      "metadata": {
        "id": "UFq_e17uwB0r"
      },
      "source": [
        "##4. Definiendo nuestra red"
      ]
    },
    {
      "cell_type": "code",
      "metadata": {
        "id": "fYSmHGvQwB0s"
      },
      "source": [
        "def build_model_regression(input_data):\n",
        "    model = models.Sequential()\n",
        "    model.add(layers.Dense(64,activation='relu',input_shape=(input_data,)))\n",
        "    model.add(layers.Dense(64,activation='relu'))\n",
        "    model.add(layers.Dense(1))\n",
        "    model.compile(optimizer='rmsprop', loss='mse',metrics=['mae'])\n",
        "    return model"
      ],
      "execution_count": 6,
      "outputs": []
    },
    {
      "cell_type": "markdown",
      "metadata": {
        "id": "EJyWav47wB0s"
      },
      "source": [
        "##5. K - fold validation"
      ]
    },
    {
      "cell_type": "code",
      "metadata": {
        "id": "a5wqzcUFwB0s"
      },
      "source": [
        "k = 4\n",
        "num_val_samples = len(train_data) // 4\n",
        "num_epoch = 80\n",
        "all_history = []"
      ],
      "execution_count": 7,
      "outputs": []
    },
    {
      "cell_type": "code",
      "metadata": {
        "id": "0Vk8r-RJwB0t",
        "outputId": "694f99e5-725c-4932-f0a5-c43d7512e02a",
        "colab": {
          "base_uri": "https://localhost:8080/"
        }
      },
      "source": [
        "0*num_val_samples"
      ],
      "execution_count": 8,
      "outputs": [
        {
          "output_type": "execute_result",
          "data": {
            "text/plain": [
              "0"
            ]
          },
          "metadata": {},
          "execution_count": 8
        }
      ]
    },
    {
      "cell_type": "code",
      "metadata": {
        "id": "OMGHWn50wB0t",
        "outputId": "53ce4a0d-7d92-40b0-f024-3c486e20f860",
        "colab": {
          "base_uri": "https://localhost:8080/"
        }
      },
      "source": [
        "(0+1) * num_val_samples"
      ],
      "execution_count": 9,
      "outputs": [
        {
          "output_type": "execute_result",
          "data": {
            "text/plain": [
              "101"
            ]
          },
          "metadata": {},
          "execution_count": 9
        }
      ]
    },
    {
      "cell_type": "code",
      "metadata": {
        "id": "rcaxSMf_wB0t",
        "outputId": "a30d6c2c-05fd-4985-e1b4-04242ee5cc51",
        "colab": {
          "base_uri": "https://localhost:8080/"
        }
      },
      "source": [
        "for i in range(k):\n",
        "    print(\"Fold \" , i)\n",
        "    val_data = train_data[i*num_val_samples: (i+1) * num_val_samples]\n",
        "    val_targets = train_targets[i*num_val_samples: (i+1) * num_val_samples]\n",
        "\n",
        "    partial_train_data = np.concatenate(\n",
        "    [train_data[:i * num_val_samples],\n",
        "     train_data[(i+1) * num_val_samples:]],\n",
        "     axis= 0\n",
        "    )\n",
        "\n",
        "    partial_train_targets = np.concatenate(\n",
        "    [train_targets[:i * num_val_samples],\n",
        "     train_targets[(i+1) * num_val_samples:]],\n",
        "     axis= 0\n",
        "    )\n",
        "    model = build_model_regression(13)\n",
        "    history = model.fit(partial_train_data, partial_train_targets, epochs=num_epoch, batch_size =16,\n",
        "                        validation_data = (val_data, val_targets),\n",
        "                        verbose=0)\n",
        "    all_history.append(history.history['val_mae'])\n"
      ],
      "execution_count": 10,
      "outputs": [
        {
          "output_type": "stream",
          "name": "stdout",
          "text": [
            "Fold  0\n",
            "Fold  1\n",
            "Fold  2\n",
            "Fold  3\n"
          ]
        }
      ]
    },
    {
      "cell_type": "markdown",
      "metadata": {
        "id": "xMf3QO9cwB0u"
      },
      "source": [
        "##6. Media de todos los MAE"
      ]
    },
    {
      "cell_type": "code",
      "metadata": {
        "id": "3rZOgis4wB0u",
        "outputId": "df68ed06-da1f-46f1-c4cd-30d928dbde23",
        "colab": {
          "base_uri": "https://localhost:8080/"
        }
      },
      "source": [
        "len(all_history[0])"
      ],
      "execution_count": 11,
      "outputs": [
        {
          "output_type": "execute_result",
          "data": {
            "text/plain": [
              "80"
            ]
          },
          "metadata": {},
          "execution_count": 11
        }
      ]
    },
    {
      "cell_type": "code",
      "metadata": {
        "id": "RIS84-iBwB0u"
      },
      "source": [
        "all_mae_avg = pd.DataFrame(all_history).mean(axis=0)"
      ],
      "execution_count": 12,
      "outputs": []
    },
    {
      "cell_type": "markdown",
      "metadata": {
        "id": "PesLtTb_wB0u"
      },
      "source": [
        "##7. Visualizando resultados"
      ]
    },
    {
      "cell_type": "code",
      "metadata": {
        "id": "I88RbpCVwB0v",
        "outputId": "31085eeb-9905-4e9b-ccba-75ec8e3ea51c",
        "colab": {
          "base_uri": "https://localhost:8080/",
          "height": 830
        }
      },
      "source": [
        "import matplotlib.pyplot as plt\n",
        "\n",
        "fig = plt.figure(figsize=(10,10))\n",
        "plt.plot(range(1,len(all_mae_avg[15:])+1), all_mae_avg[15:])\n",
        "plt.show()"
      ],
      "execution_count": 13,
      "outputs": [
        {
          "output_type": "display_data",
          "data": {
            "text/plain": [
              "<Figure size 1000x1000 with 1 Axes>"
            ],
            "image/png": "[encoded data removed]"
          },
          "metadata": {}
        }
      ]
    },
    {
      "cell_type": "markdown",
      "metadata": {
        "id": "fKsCleIdwB0v"
      },
      "source": [
        "##8. Evaluando el modelo"
      ]
    },
    {
      "cell_type": "code",
      "metadata": {
        "id": "FQ2deRunwB0v",
        "outputId": "c3b13c97-795f-409a-8ea1-70611a4b6c13",
        "colab": {
          "base_uri": "https://localhost:8080/"
        }
      },
      "source": [
        "model.evaluate(test_data, test_targets)"
      ],
      "execution_count": 14,
      "outputs": [
        {
          "output_type": "stream",
          "name": "stdout",
          "text": [
            "4/4 [==============================] - 0s 5ms/step - loss: 21.1212 - mae: 2.7884\n"
          ]
        },
        {
          "output_type": "execute_result",
          "data": {
            "text/plain": [
              "[21.121179580688477, 2.7883551120758057]"
            ]
          },
          "metadata": {},
          "execution_count": 14
        }
      ]
    }
  ]
}